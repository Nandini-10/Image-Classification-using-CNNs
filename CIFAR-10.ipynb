{
  "cells": [
    {
      "cell_type": "markdown",
      "id": "9c9bd764",
      "metadata": {
        "id": "9c9bd764"
      },
      "source": [
        "#                                             COMPUTING ASSIGNMENT - 3"
      ]
    },
    {
      "cell_type": "markdown",
      "id": "900f3209",
      "metadata": {
        "id": "900f3209"
      },
      "source": [
        "In this assignment, we aim to explore the concept of Convolutional Neural Networks (CNNs) and their suitability for image classification tasks. We will understand the significance of automatic feature learning in image classification and how CNNs excel in utilizing spatial relationships within images.\n",
        "To Do:\n",
        "    a. You will have to to successfully run this notebook and understand the steps.\n",
        "    b. Make any modifications/additions to demonstrate that the model trained correctly, by using an image from the 'Test' dataset and verify that it was correctly classified.\n",
        "    c. Take an image of a your own handwritten digit (possibly in a 5cm x 5cm sheet) and verify if the model is able to classify it correctly. If it fails, justify the reason.\n",
        "    d. Take images of a specific digit, one from the 'train' and 'test' set. Extract the SIFT features for these digits. Compare them using their SIFT features and verify if they match. Justify.\n",
        "    e. Create a copy of this notebook and now use the CIFAR10 dataset and modify the template (keep the basic model same as 'Sequential', but can make other changes) as necessary to perform classification on this dataset. Show that the trained model is able to classify the objects from the given 'Train' set. Does it work for your own image (not necessarily in the dataset) ?"
      ]
    },
    {
      "cell_type": "markdown",
      "id": "d9f39dee",
      "metadata": {
        "id": "d9f39dee"
      },
      "source": [
        "### A basic CNN architecture"
      ]
    },
    {
      "cell_type": "markdown",
      "id": "4bf20bf8",
      "metadata": {
        "id": "4bf20bf8"
      },
      "source": [
        "CNNs are a class of deep learning models designed to automatically and adaptively learn spatial hierarchies of features from input data, particularly images. They are characterized by their ability to learn directly from pixel data with minimal preprocessing. A CNN employs spatial convolution for processing. This operation calculates a sum of products between pixel values and a set of kernel weights, applied at each spatial location in the input image. The result at each location is a scalar value, analogous to the output of a neuron in a fully connected neural network. Adding a bias and applying an activation function completes the analogy with fully connected networks."
      ]
    },
    {
      "cell_type": "markdown",
      "id": "164aa47b",
      "metadata": {
        "id": "164aa47b"
      },
      "source": [
        "![cnn.png](attachment:cnn.png)"
      ]
    },
    {
      "cell_type": "markdown",
      "id": "012932e0",
      "metadata": {
        "id": "012932e0"
      },
      "source": [
        "A typical CNN architecture consists of several layers:\n",
        "\n",
        "Convolutional Layer: These layers apply convolution operations to the input data, which involves sliding a small filter (kernel) over the input to detect patterns and features.\n",
        "\n",
        "Pooling Layer: Pooling layers reduce the spatial dimensions of the input by taking the maximum or average value within a small window. This helps reduce the computational load and focuses on the most important features.\n",
        "\n",
        "Fully Connected Layer (Dense Layer): These layers are traditional neural network layers that take the output of the previous layers and produce the final classification or regression output."
      ]
    },
    {
      "cell_type": "markdown",
      "id": "60623fab",
      "metadata": {
        "id": "60623fab"
      },
      "source": [
        "### Visualizing feature maps after convolution and pooling operations"
      ]
    },
    {
      "cell_type": "markdown",
      "id": "5e424f02",
      "metadata": {
        "id": "5e424f02"
      },
      "source": [
        "We will try to visualize the features in each layer of a CNN using the MNIST dataset"
      ]
    },
    {
      "cell_type": "code",
      "execution_count": 67,
      "id": "a843caae",
      "metadata": {
        "id": "a843caae"
      },
      "outputs": [],
      "source": [
        "\n",
        "import numpy as np\n",
        "import matplotlib.pyplot as plt\n",
        "from keras.datasets import mnist\n",
        "from keras.models import Sequential\n",
        "from keras.layers import Conv2D, MaxPooling2D, Flatten, Dense\n",
        "from keras.utils import to_categorical\n",
        "from keras.optimizers import Adam\n",
        "from sklearn.metrics import classification_report, confusion_matrix"
      ]
    },
    {
      "cell_type": "markdown",
      "id": "64715bff",
      "metadata": {
        "id": "64715bff"
      },
      "source": [
        "Next, we load the CIFAR10 dataset and view a few samples from it"
      ]
    },
    {
      "cell_type": "code",
      "source": [
        "import torch\n",
        "import torchvision\n",
        "import torchvision.transforms as transforms"
      ],
      "metadata": {
        "id": "-U5R0yTAge_D"
      },
      "id": "-U5R0yTAge_D",
      "execution_count": 68,
      "outputs": []
    },
    {
      "cell_type": "markdown",
      "source": [
        "The output of torchvision datasets are PILImage images of range [0, 1]. We transform them to Tensors of normalized range [-1, 1]."
      ],
      "metadata": {
        "id": "Kx_gAtOG97ik"
      },
      "id": "Kx_gAtOG97ik"
    },
    {
      "cell_type": "code",
      "source": [
        "transform = transforms.Compose(\n",
        "    [transforms.ToTensor(),\n",
        "     transforms.Normalize((0.5, 0.5, 0.5), (0.5, 0.5, 0.5))])\n",
        "\n",
        "trainset = torchvision.datasets.CIFAR10(root='./data', train=True,\n",
        "                                        download=True, transform=transform)\n",
        "trainloader = torch.utils.data.DataLoader(trainset, batch_size=4,\n",
        "                                          shuffle=True, num_workers=2)\n",
        "\n",
        "testset = torchvision.datasets.CIFAR10(root='./data', train=False,\n",
        "                                       download=True, transform=transform)\n",
        "testloader = torch.utils.data.DataLoader(testset, batch_size=4,\n",
        "                                         shuffle=False, num_workers=2)\n",
        "\n",
        "classes = ('plane', 'car', 'bird', 'cat',\n",
        "           'deer', 'dog', 'frog', 'horse', 'ship', 'truck')\n",
        "\n"
      ],
      "metadata": {
        "colab": {
          "base_uri": "https://localhost:8080/"
        },
        "id": "37YA-luwgkRs",
        "outputId": "e214c86b-61fd-4d17-8a57-2f712b17700b"
      },
      "id": "37YA-luwgkRs",
      "execution_count": 69,
      "outputs": [
        {
          "output_type": "stream",
          "name": "stdout",
          "text": [
            "Files already downloaded and verified\n",
            "Files already downloaded and verified\n"
          ]
        }
      ]
    },
    {
      "cell_type": "code",
      "source": [
        "import matplotlib.pyplot as plt\n",
        "import numpy as np\n",
        "\n",
        "# functions to show an image\n",
        "def imshow(img):\n",
        "   img = img / 2 + 0.5    # unnormalize\n",
        "   npimg = img.numpy()\n",
        "   plt.imshow(np.transpose(npimg, (1, 2, 0)))\n",
        "\n",
        "# get some random training images\n",
        "dataiter = iter(trainloader)\n",
        "images, labels = next(dataiter)\n",
        "\n",
        "# show images\n",
        "imshow(torchvision.utils.make_grid(images))\n",
        "# print labels\n",
        "print(' '.join('%5s' % classes[labels[j]] for j in range(4)))\n"
      ],
      "metadata": {
        "colab": {
          "base_uri": "https://localhost:8080/",
          "height": 210
        },
        "id": "kQ0I7U9DhKef",
        "outputId": "feac6ed8-3657-4620-bc1e-b3d9bbdaae01"
      },
      "id": "kQ0I7U9DhKef",
      "execution_count": 70,
      "outputs": [
        {
          "output_type": "stream",
          "name": "stdout",
          "text": [
            "truck horse   car   dog\n"
          ]
        },
        {
          "output_type": "display_data",
          "data": {
            "text/plain": [
              "<Figure size 640x480 with 1 Axes>"
            ],
            "image/png": "[encoded data removed]"
          },
          "metadata": {}
        }
      ]
    },
    {
      "cell_type": "markdown",
      "source": [
        "Now we define a CNN"
      ],
      "metadata": {
        "id": "Do_7Dv29-IAi"
      },
      "id": "Do_7Dv29-IAi"
    },
    {
      "cell_type": "code",
      "source": [
        "import torch.nn as nn\n",
        "import torch.nn.functional as F\n",
        "\n",
        "\n",
        "class Net(nn.Module):\n",
        "    def __init__(self):\n",
        "        super(Net, self).__init__()\n",
        "        self.conv1 = nn.Conv2d(3, 6, 5)\n",
        "        self.pool = nn.MaxPool2d(2, 2)\n",
        "        self.conv2 = nn.Conv2d(6, 16, 5)\n",
        "        self.fc1 = nn.Linear(16 * 5 * 5, 120)\n",
        "        self.fc2 = nn.Linear(120, 84)\n",
        "        self.fc3 = nn.Linear(84, 10)\n",
        "\n",
        "    def forward(self, x):\n",
        "        x = self.pool(F.relu(self.conv1(x)))\n",
        "        x = self.pool(F.relu(self.conv2(x)))\n",
        "        x = x.view(-1, 16 * 5 * 5)\n",
        "        x = F.relu(self.fc1(x))\n",
        "        x = F.relu(self.fc2(x))\n",
        "        x = self.fc3(x)\n",
        "        return x\n",
        "\n",
        "\n",
        "net = Net()"
      ],
      "metadata": {
        "id": "u_tosZZDi3RV"
      },
      "id": "u_tosZZDi3RV",
      "execution_count": 71,
      "outputs": []
    },
    {
      "cell_type": "markdown",
      "source": [
        "Define the loss function and optimizer"
      ],
      "metadata": {
        "id": "Rs5yq8V2-NSe"
      },
      "id": "Rs5yq8V2-NSe"
    },
    {
      "cell_type": "code",
      "source": [
        "import torch.optim as optim\n",
        "\n",
        "criterion = nn.CrossEntropyLoss()\n",
        "optimizer = optim.SGD(net.parameters(), lr=0.001, momentum=0.9)"
      ],
      "metadata": {
        "id": "RcIKImzui8gy"
      },
      "id": "RcIKImzui8gy",
      "execution_count": 72,
      "outputs": []
    },
    {
      "cell_type": "markdown",
      "source": [
        "Train the network"
      ],
      "metadata": {
        "id": "kbO1Wi4c-TWX"
      },
      "id": "kbO1Wi4c-TWX"
    },
    {
      "cell_type": "code",
      "source": [
        "for epoch in range(2):  # loop over the dataset multiple times\n",
        "\n",
        "    running_loss = 0.0\n",
        "    for i, data in enumerate(trainloader, 0):\n",
        "        # get the inputs\n",
        "        inputs, labels = data\n",
        "\n",
        "        # zero the parameter gradients\n",
        "        optimizer.zero_grad()\n",
        "\n",
        "        # forward + backward + optimize\n",
        "        outputs = net(inputs)\n",
        "        loss = criterion(outputs, labels)\n",
        "        loss.backward()\n",
        "        optimizer.step()\n",
        "\n",
        "        # print statistics\n",
        "        running_loss += loss.item()\n",
        "        if i % 2000 == 1999:    # print every 2000 mini-batches\n",
        "            print('[%d, %5d] loss: %.3f' %\n",
        "                  (epoch + 1, i + 1, running_loss / 2000))\n",
        "            running_loss = 0.0\n",
        "\n",
        "print('Finished Training')"
      ],
      "metadata": {
        "colab": {
          "base_uri": "https://localhost:8080/"
        },
        "id": "cvKsg_4fjF97",
        "outputId": "52e5eb4d-4124-4530-d737-65feae9e2225"
      },
      "id": "cvKsg_4fjF97",
      "execution_count": 73,
      "outputs": [
        {
          "output_type": "stream",
          "name": "stdout",
          "text": [
            "[1,  2000] loss: 2.257\n",
            "[1,  4000] loss: 1.907\n",
            "[1,  6000] loss: 1.710\n",
            "[1,  8000] loss: 1.564\n",
            "[1, 10000] loss: 1.527\n",
            "[1, 12000] loss: 1.480\n",
            "[2,  2000] loss: 1.434\n",
            "[2,  4000] loss: 1.363\n",
            "[2,  6000] loss: 1.366\n",
            "[2,  8000] loss: 1.337\n",
            "[2, 10000] loss: 1.303\n",
            "[2, 12000] loss: 1.305\n",
            "Finished Training\n"
          ]
        }
      ]
    },
    {
      "cell_type": "markdown",
      "source": [
        "Test the network for 2 passes"
      ],
      "metadata": {
        "id": "YpXeFO-7-Xye"
      },
      "id": "YpXeFO-7-Xye"
    },
    {
      "cell_type": "code",
      "source": [
        "dataiter = iter(testloader)\n",
        "images, labels = next(dataiter)\n",
        "\n",
        "# print images\n",
        "imshow(torchvision.utils.make_grid(images))\n",
        "print('GroundTruth: ', ' '.join('%5s' % classes[labels[j]] for j in range(4)))"
      ],
      "metadata": {
        "colab": {
          "base_uri": "https://localhost:8080/",
          "height": 210
        },
        "id": "rTtDYQfTkSzs",
        "outputId": "66b93bda-f982-4998-d10d-9fe7dc473de0"
      },
      "id": "rTtDYQfTkSzs",
      "execution_count": 74,
      "outputs": [
        {
          "output_type": "stream",
          "name": "stdout",
          "text": [
            "GroundTruth:    cat  ship  ship plane\n"
          ]
        },
        {
          "output_type": "display_data",
          "data": {
            "text/plain": [
              "<Figure size 640x480 with 1 Axes>"
            ],
            "image/png": "[encoded data removed]"
          },
          "metadata": {}
        }
      ]
    },
    {
      "cell_type": "code",
      "source": [
        "outputs = net(images)"
      ],
      "metadata": {
        "id": "mUQdj_QCkm_F"
      },
      "id": "mUQdj_QCkm_F",
      "execution_count": 75,
      "outputs": []
    },
    {
      "cell_type": "code",
      "source": [
        "_, predicted = torch.max(outputs, 1)\n",
        "\n",
        "print('Predicted: ', ' '.join('%5s' % classes[predicted[j]]\n",
        "                              for j in range(4)))"
      ],
      "metadata": {
        "colab": {
          "base_uri": "https://localhost:8080/"
        },
        "id": "8cHC94GfkrpP",
        "outputId": "67c7a99c-d209-4c40-a427-4d18e45a796c"
      },
      "id": "8cHC94GfkrpP",
      "execution_count": 76,
      "outputs": [
        {
          "output_type": "stream",
          "name": "stdout",
          "text": [
            "Predicted:    cat  ship  ship  ship\n"
          ]
        }
      ]
    },
    {
      "cell_type": "code",
      "source": [
        "correct = 0\n",
        "total = 0\n",
        "with torch.no_grad():\n",
        "    for data in testloader:\n",
        "        images, labels = data\n",
        "        outputs = net(images)\n",
        "        _, predicted = torch.max(outputs.data, 1)\n",
        "        total += labels.size(0)\n",
        "        correct += (predicted == labels).sum().item()\n",
        "\n",
        "print('Accuracy of the network on the 10000 test images: %d %%' % (\n",
        "    100 * correct / total))"
      ],
      "metadata": {
        "colab": {
          "base_uri": "https://localhost:8080/"
        },
        "id": "-2-RVBXslEpM",
        "outputId": "84a0b9e9-cb8e-4b84-f986-de7fc8b39e18"
      },
      "id": "-2-RVBXslEpM",
      "execution_count": 77,
      "outputs": [
        {
          "output_type": "stream",
          "name": "stdout",
          "text": [
            "Accuracy of the network on the 10000 test images: 54 %\n"
          ]
        }
      ]
    },
    {
      "cell_type": "markdown",
      "source": [
        "Now, check for the whole dataset"
      ],
      "metadata": {
        "id": "wdX-D7Nr-kq3"
      },
      "id": "wdX-D7Nr-kq3"
    },
    {
      "cell_type": "code",
      "source": [
        "class_correct = list(0. for i in range(10))\n",
        "class_total = list(0. for i in range(10))\n",
        "with torch.no_grad():\n",
        "    for data in testloader:\n",
        "        images, labels = data\n",
        "        outputs = net(images)\n",
        "        _, predicted = torch.max(outputs, 1)\n",
        "        c = (predicted == labels).squeeze()\n",
        "        for i in range(4):\n",
        "            label = labels[i]\n",
        "            class_correct[label] += c[i].item()\n",
        "            class_total[label] += 1\n",
        "\n",
        "\n",
        "for i in range(10):\n",
        "    print('Accuracy of %5s : %2d %%' % (\n",
        "        classes[i], 100 * class_correct[i] / class_total[i]))"
      ],
      "metadata": {
        "colab": {
          "base_uri": "https://localhost:8080/"
        },
        "id": "zPaEiiYwlzVD",
        "outputId": "883987bb-4d6f-4f3a-92f6-cb98cb0aaec5"
      },
      "id": "zPaEiiYwlzVD",
      "execution_count": 78,
      "outputs": [
        {
          "output_type": "stream",
          "name": "stdout",
          "text": [
            "Accuracy of plane : 68 %\n",
            "Accuracy of   car : 70 %\n",
            "Accuracy of  bird : 40 %\n",
            "Accuracy of   cat : 43 %\n",
            "Accuracy of  deer : 36 %\n",
            "Accuracy of   dog : 36 %\n",
            "Accuracy of  frog : 61 %\n",
            "Accuracy of horse : 67 %\n",
            "Accuracy of  ship : 73 %\n",
            "Accuracy of truck : 47 %\n"
          ]
        }
      ]
    },
    {
      "cell_type": "markdown",
      "source": [
        "Check for an external image"
      ],
      "metadata": {
        "id": "jscbVpEJ-sBF"
      },
      "id": "jscbVpEJ-sBF"
    },
    {
      "cell_type": "code",
      "source": [
        "from PIL import Image\n",
        "\n",
        "# Load the image\n",
        "image = Image.open('external_test.jpg')"
      ],
      "metadata": {
        "id": "uLPUTz2KnEPX"
      },
      "id": "uLPUTz2KnEPX",
      "execution_count": 80,
      "outputs": []
    },
    {
      "cell_type": "code",
      "source": [
        "from torchvision import transforms\n",
        "\n",
        "# Define the preprocessing steps\n",
        "preprocess = transforms.Compose([\n",
        "   transforms.Resize((32, 32)), # Resize to the input size expected by the model\n",
        "   transforms.ToTensor(), # Convert the image to a tensor\n",
        "   transforms.Normalize(mean=[0.485, 0.456, 0.406], std=[0.229, 0.224, 0.225]) # Normalize the image\n",
        "])\n",
        "\n",
        "# Preprocess the image\n",
        "input_image = preprocess(image)\n"
      ],
      "metadata": {
        "id": "2DzSuWSKoBQ1"
      },
      "id": "2DzSuWSKoBQ1",
      "execution_count": 102,
      "outputs": []
    },
    {
      "cell_type": "code",
      "source": [
        "# Add an extra dimension for the batch size\n",
        "input_image = input_image.unsqueeze(0)"
      ],
      "metadata": {
        "id": "k_X9Du9o6lEB"
      },
      "id": "k_X9Du9o6lEB",
      "execution_count": 103,
      "outputs": []
    },
    {
      "cell_type": "code",
      "source": [
        "# Create a tensor\n",
        "tensor = torch.empty(3, 4, 5)\n",
        "\n",
        "# Get the size of the tensor\n",
        "size = tensor.size()\n",
        "\n",
        "# Convert the size to a list\n",
        "size_list = list(size)\n",
        "\n",
        "print(size_list) # Output: [3, 4, 5]\n"
      ],
      "metadata": {
        "colab": {
          "base_uri": "https://localhost:8080/"
        },
        "id": "_2C_r8YBsGmN",
        "outputId": "5f7c29d8-fe34-470e-9285-c7874090ca88"
      },
      "id": "_2C_r8YBsGmN",
      "execution_count": 104,
      "outputs": [
        {
          "output_type": "stream",
          "name": "stdout",
          "text": [
            "[3, 4, 5]\n"
          ]
        }
      ]
    },
    {
      "cell_type": "code",
      "source": [
        "# Pass the image to the model\n",
        "output = net(input_image)\n",
        "\n",
        "# Get the class with the highest probability\n",
        "predicted_class = torch.argmax(output, dim=1)\n",
        "\n",
        "\n",
        "print('Predicted: ', ' '.join('%5s' % classes[predicted_class]))\n",
        "\n",
        "\n"
      ],
      "metadata": {
        "colab": {
          "base_uri": "https://localhost:8080/"
        },
        "id": "5uOzetIrsuZv",
        "outputId": "d7a3c0e4-9ccc-45a6-f21b-62646d658f9c"
      },
      "id": "5uOzetIrsuZv",
      "execution_count": 107,
      "outputs": [
        {
          "output_type": "stream",
          "name": "stdout",
          "text": [
            "Predicted:      c a r\n"
          ]
        }
      ]
    },
    {
      "cell_type": "markdown",
      "source": [
        "The model has predicted the correct class hence it works well."
      ],
      "metadata": {
        "id": "dMJTalIs-u83"
      },
      "id": "dMJTalIs-u83"
    }
  ],
  "metadata": {
    "kernelspec": {
      "display_name": "Python 3",
      "language": "python",
      "name": "python3"
    },
    "language_info": {
      "codemirror_mode": {
        "name": "ipython",
        "version": 3
      },
      "file_extension": ".py",
      "mimetype": "text/x-python",
      "name": "python",
      "nbconvert_exporter": "python",
      "pygments_lexer": "ipython3",
      "version": "3.9.16"
    },
    "colab": {
      "provenance": []
    }
  },
  "nbformat": 4,
  "nbformat_minor": 5
}